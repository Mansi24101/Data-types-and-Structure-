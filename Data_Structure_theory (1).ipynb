{
  "nbformat": 4,
  "nbformat_minor": 0,
  "metadata": {
    "colab": {
      "provenance": []
    },
    "kernelspec": {
      "name": "python3",
      "display_name": "Python 3"
    },
    "language_info": {
      "name": "python"
    }
  },
  "cells": [
    {
      "cell_type": "markdown",
      "source": [
        "1. What are data structures, and why are they important?\n",
        "-  Data structures are specialized formats ways for storing, organizing and managing collections of data can be accessed and manipulated easily.\n",
        "Data structure is important --choosing the right data structure significantly impacts the efficiency and performance of your program.It can be used to: store efficiently and use memory , to modify and access quickly, can be reused and more readable data, solve complex problems,optimize searching and sorting operations.\n",
        "\n"
      ],
      "metadata": {
        "id": "yNxXcRtqPDvI"
      }
    },
    {
      "cell_type": "markdown",
      "source": [
        "2. Explain the difference between mutable and immutable data types with examples?\n",
        " - Mutuable data type- it can be changed after creation and we can even add,remove,update elements without creating new object\n",
        " examples : list, dictinary, set\n",
        " Immutable data types- it can't be changed once created , new change will create new object\n",
        " example: integer , tuple,string"
      ],
      "metadata": {
        "id": "SwPJFjEHQW0e"
      }
    },
    {
      "cell_type": "markdown",
      "source": [
        "3. What are the main differences between lists and tuples in Python?\n",
        "\n",
        "- Lists- ordered, mutuable collections of elements, it is kind of shopping list as it can hold items of various data types.\n",
        "list can be used in operation of modify, add, or remove elements within a list using indexing and slicing\n",
        "lists are versatile for storing and managing collections that might change\n",
        "syntax is  square bracket []\n",
        "Tuples- ordered, immutable collections of elements,once created the items in a tuple can't be changed.\n",
        "it is a way to store data securely as it cannot be modified.\n",
        "we can access elements using indexing and slicing, but it can't be modify the content, it represents fixed datasets or configuration\n",
        "syntax is parentheses()\n",
        "analogy likhna hai ke nai doubt"
      ],
      "metadata": {
        "id": "7Gv4nQ50VTUx"
      }
    },
    {
      "cell_type": "markdown",
      "source": [
        "4. Describe how dictionaries store data?\n",
        "- Dictionaries are unorderd collectionss this is why the key value pairs don't have a specific order when iterationg over them\n",
        "It stores data using key-value pair ,the key is unique for the value ,keys are use to access corresponding values\n",
        "It also stores data using hashing technique to store keys\n",
        "The hash value is an integer that is used to determine where the key-value pair will be stored in memory\n",
        "The dictionary uses an array to store the key-value pairs"
      ],
      "metadata": {
        "id": "UJRGgsuwVfzE"
      }
    },
    {
      "cell_type": "markdown",
      "source": [
        "5. Why might you use a set instead of a list in Python?\n",
        "- Set is used in case of unique elements, perform operations like union, intersection, and difference ,order of element does not matters\n",
        "- list is used to preserve the order of elements,store duplicates, access elements by index\n",
        "By using set instead of list  we can store a collection of unique items as it does not allow duplication so we do not need to check\n",
        "Set also perform functions like union , intersection,diffenece,symmetric difference these can be used easily and as list would require addtional logic\n",
        "Sets can be used when order of elements does not matters and uniqueness and efficiency of operations\n",
        "Sets use array or hashing internally so better performance and memory efficiency to store and check large number of elements whereas lists require more memory to store duplicate elements\n"
      ],
      "metadata": {
        "id": "RUIScnjkX3xY"
      }
    },
    {
      "cell_type": "markdown",
      "source": [
        "6. What is a string in Python, and how is it different from a list?\n",
        "- String-used to represent text data , or sequence of characters.\n",
        "it is immutable once created cannot be modified if any part of the string needs to be changed it will create new string.\n",
        "methods used are string specific like .upper() , .replace().\n",
        "it can iterate over characters.\n",
        "- List-it can store any data type heterogenous data, it is mutuable it can be modified after creating by adding,removing,or changing elements.\n",
        "it can iterate over any type of element[eg :numbers,strings]\n",
        "methods used are list specific like\n",
        " .append() , .extend() , .pop()\n"
      ],
      "metadata": {
        "id": "-yc4e0sqhpAj"
      }
    },
    {
      "cell_type": "markdown",
      "source": [
        "7. How do tuples ensure data integrity in Python?\n",
        "-  As tuples are immutable collection of elements, once created tuple cannot be changed no item can be added, removed, or modified.\n",
        "It prevents accidental modification and unintended changes to data\n",
        "It's use is safe in dictionaries and sets\n",
        "This usage gives other developers that the data should not be modified, helps to maintain logical integrity in the codebase\n"
      ],
      "metadata": {
        "id": "XhkDqkMM-qUK"
      }
    },
    {
      "cell_type": "markdown",
      "source": [
        "8. What is a hash table, and how does it relate to dictionaries in Python?\n",
        "- A hash table is a data structure that allows for fast data retrieval by using a key to access the value. It works by applying a hash function to the key to determine an index also called a hash code in an array, where the corresponding value is stored.\n",
        "Keys are hashed into an index and the values are stored.\n",
        "When you use a key in a dictionary, Python computes the hash of to determine where to store or retrieve the value.\n",
        "Python handles collisions and resizing of the underlying hash table automatically, so for the fast lookups.\n",
        "Python dictionaries are hash tables as they provide fast key-value storage and lookup."
      ],
      "metadata": {
        "id": "vvRxWwOk-p__"
      }
    },
    {
      "cell_type": "markdown",
      "source": [
        "9. Can lists contain different data types in Python?\n",
        "- List can contain heterogenous data that is items of mixed data types such as integers,strings,floats\n",
        "The element of the lists can be accessed by its index\n",
        "The elements in the list can be modified\n",
        "It can also contain other lists that is nested lists it can contain elements of different types\n"
      ],
      "metadata": {
        "id": "JRTDAScu-p8m"
      }
    },
    {
      "cell_type": "markdown",
      "source": [
        "10. Explain why strings are immutable in Python?\n",
        "Strings are immutable that is if once created cannot be edited or changed\n",
        "It is immutable because for better efficiency and performance as it is used in keys for dictionaries, in files,etc\n",
        "It allows them to reuse memory for identical strings instead of creating duplicates.\n",
        "It hashable feature helps to use in dictionaries and sets , as to be used as key in dictionary or element in set its hould be hashable as it contains fix hash value\n",
        "As it is immutable it prevents accidental changes and also makes the code safer and more predictable\n"
      ],
      "metadata": {
        "id": "S4LbXKeZhmG-"
      }
    },
    {
      "cell_type": "markdown",
      "source": [
        "11. What advantages do dictionaries offer over lists for certain tasks?\n",
        "- Dictionary can be used to quickly find a value using a unique identifier that is key.\n",
        "As list contains collection of value and in Dictionary each value is labeled with key making it clear.\n",
        "In lists items can be access by index while in dictionary it is accessed by keys that is more descreptive which eventually makes the code readable.\n",
        "Dictionaries  ensure that all keys are unique, prevents accidental duplication.\n",
        "In list to update specific value the exact index should be known.\n",
        "In dictionary we can directly update a value by key\n"
      ],
      "metadata": {
        "id": "3Qc6lzkq_A92"
      }
    },
    {
      "cell_type": "markdown",
      "source": [
        "12. Describe a scenario where using a tuple would be preferable over a list?\n",
        "- A tuple can be used over a list when the data is not required to be changed that it is immutable, it also ensure safe code that prevents it from accidental edits,it can be used as key in dictionary/set, the data is fixed and ordered collection.\n",
        "A scenario based on above:"
      ],
      "metadata": {
        "id": "3vaXOPrI_BAk"
      }
    },
    {
      "cell_type": "code",
      "source": [
        "user_record = (\"user_123\", \"mansi\", \"mansiagarwal520@gmail.com\")\n",
        "user_id, name, email = user_record\n",
        "print(user_id)\n",
        "print(name)\n",
        "print(email)"
      ],
      "metadata": {
        "colab": {
          "base_uri": "https://localhost:8080/"
        },
        "id": "dFy_pnqR3a2_",
        "outputId": "c009acbb-23f4-4a2b-ad2a-f27c770e4059"
      },
      "execution_count": 1,
      "outputs": [
        {
          "output_type": "stream",
          "name": "stdout",
          "text": [
            "user_123\n",
            "mansi\n",
            "mansiagarwal520@gmail.com\n"
          ]
        }
      ]
    },
    {
      "cell_type": "markdown",
      "source": [
        "13. How do sets handle duplicate values in Python?\n",
        "- A set is a collection that is unordered, contains only unique elements,as in Python sets automatically remove duplicate values\n",
        "No duplicates are been made even if we add duplicate values to a set it only keeps only one copy of each unique item.\n",
        "It allows operations like union, intersection, difference."
      ],
      "metadata": {
        "id": "u5uYbefh_BCe"
      }
    },
    {
      "cell_type": "markdown",
      "source": [
        "14. How does the “in” keyword work differently for lists and dictionaries?\n",
        "- The in keyword cehcks if value exsists within collection like list,tuple,set,disctionary.\n",
        "The in keyword in list check if value exsist as an element in the list it checks one by one until it finds a match or reaches the end.\n",
        "The in keyword in dictionary checks only keys not the values, as dictionaries use hash table for looking  "
      ],
      "metadata": {
        "id": "ZaxCL8jS_BFI"
      }
    },
    {
      "cell_type": "code",
      "source": [
        "fruits = [\"apple\", \"banana\", \"mango\"]\n",
        "print(\"banana\" in fruits)\n",
        "print(\"grape\" in fruits)\n"
      ],
      "metadata": {
        "colab": {
          "base_uri": "https://localhost:8080/"
        },
        "id": "W33R4Ecv9aLe",
        "outputId": "2e50f66f-3b6d-41ff-a08b-01a71111cb91"
      },
      "execution_count": 2,
      "outputs": [
        {
          "output_type": "stream",
          "name": "stdout",
          "text": [
            "True\n",
            "False\n"
          ]
        }
      ]
    },
    {
      "cell_type": "code",
      "source": [
        "student = {\"name\": \"Mansi\", \"age\": 22}\n",
        "\n",
        "print(\"name\" in student)\n",
        "print(\"Mansi\" in student)\n"
      ],
      "metadata": {
        "colab": {
          "base_uri": "https://localhost:8080/"
        },
        "id": "DBVMIOE69lem",
        "outputId": "1e82d358-9717-49a7-9d40-21ac7f33b1ec"
      },
      "execution_count": 4,
      "outputs": [
        {
          "output_type": "stream",
          "name": "stdout",
          "text": [
            "True\n",
            "False\n"
          ]
        }
      ]
    },
    {
      "cell_type": "markdown",
      "source": [
        "15. Can you modify the elements of a tuple? Explain why or why not?\n",
        "- No, we cannot.\n",
        "  Tuples are immutable which means once created its element cannot be changed,added or removed..\n",
        "  why?\n",
        "  As tuples are fixed data collections.\n",
        "  It also prevents accidental changes.\n",
        "  Hashable, so it can be used as keys in dictionaries or elements in sets.\n",
        "  \n"
      ],
      "metadata": {
        "id": "2mTr-R6n_BIw"
      }
    },
    {
      "cell_type": "markdown",
      "source": [
        "16. What is a nested dictionary, and give an example of its use case?\n",
        "- A nested dictionary is a dictionary inside another dictionary, it represents structural data where each key maps to another dictionary\n"
      ],
      "metadata": {
        "id": "zSleJiP3_ZXv"
      }
    },
    {
      "cell_type": "code",
      "source": [
        "employee = {\"employee1\":{\"name\": \"Mansi\", \"age\":22},\"employee2\":{\"name\": \"neha\",\"age\":25}}\n",
        "print(employee[\"employee1\"][\"name\"])\n",
        "print(employee[\"employee2\"][\"age\"])"
      ],
      "metadata": {
        "colab": {
          "base_uri": "https://localhost:8080/"
        },
        "id": "AdjAUpYA_n7j",
        "outputId": "a7ecf7e9-6ebc-4844-d250-155cfaaeb17e"
      },
      "execution_count": 5,
      "outputs": [
        {
          "output_type": "stream",
          "name": "stdout",
          "text": [
            "Mansi\n",
            "25\n"
          ]
        }
      ]
    },
    {
      "cell_type": "markdown",
      "source": [
        "17. Describe the time complexity of accessing elements in a dictionary?\n",
        "-  Time complexity  accessing elements in a dictionary by key is generally:constant time that is 0(1)\n",
        "In the worst case 0(n) due to hash collision as it is rare\n",
        "The time it takes to retrieve a value does not depend on the size of the dictionary.\n",
        "It’s just as fast to get a value from a dictionary with 10 items as it is from one with 10,000"
      ],
      "metadata": {
        "id": "GN5Ifdl9_ZaZ"
      }
    },
    {
      "cell_type": "markdown",
      "source": [
        "18.  In what situations are lists preferred over dictionaries?\n",
        "- Lists are preferred over dictionary as lists are ordered collections of items, and useful when position of items matters, it is also useful when only values are needed and no key values, list is simpler and cleaner.\n",
        "List also helps in sequential operations like loops,slicing,sorting,appending,etc are simple.\n",
        "List are used for implementing simple data structures like FIFO and LIFO.\n",
        "List are more readable and intutive.\n",
        "In list index based access or loop is used as it is fast and easy  \n"
      ],
      "metadata": {
        "id": "WRUQD0UO_Zcm"
      }
    },
    {
      "cell_type": "markdown",
      "source": [
        "19. Why are dictionaries considered unordered, and how does that affect data retrieval?\n",
        "- In versions before Python 3.7, dictionaries were considered unordered because:\n",
        "They didn't maintain the insertion order of key-value pairs.\n",
        "So, when looped through or printed a dictionary, items could appear in any order.\n",
        "The data retrieval:in python 3.7+ Keys appear in the order they were added.\n",
        "but even now, dictionaries are not truly ordered like a list.we should not rely on position-based access (like dict[0]), because dictionaries are still based on key-based lookup, not index."
      ],
      "metadata": {
        "id": "QHahy9yZ_Zfl"
      }
    },
    {
      "cell_type": "markdown",
      "source": [
        "20. Explain the difference between a list and a dictionary in terms of data retrieval.\n",
        "- List can be accessed by index/position. It always uses integer indices\n",
        "0(n) slow for searching values\n",
        "It is ordered sequence.\n",
        "It can be accessed in one way only\n",
        "\n",
        "Dictionariers- can be accessed by key. It uses custom keys like strings,numbers,etc\n",
        "0(1) faster for key lookup as keys are unique.\n",
        "It is a key-value pair.\n",
        "It has more flexibility and descreptive access."
      ],
      "metadata": {
        "id": "9sCjCgWF_psN"
      }
    }
  ]
}